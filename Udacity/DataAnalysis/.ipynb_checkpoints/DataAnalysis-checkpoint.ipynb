{
 "cells": [
  {
   "cell_type": "markdown",
   "metadata": {},
   "source": [
    "## Udacity Student Engagement Data Analysis ##\n",
    "### Activity ###\n",
    "The following data from Udacity DAND (Data Analyst Nano Degree) is provided for analysis. \n",
    "\n",
    "\n",
    "* **Enrollments** (__enrollments.csv__) -\n",
    "    Provides details of how students are getting enrolling and cancelling to Udacity\n",
    "\n",
    "* **Daily Engagement** (daily_engagement.csv) - \n",
    "    Provides Engagement Summary of Students on a particular date like - Number of Courses Visited, Total Minutes Visited, Number of Lessons completed, Number of projects completed\n",
    "\n",
    "* **Project Submissions** (project_submissions.csv) -\n",
    "    Provides details of Project Submissions like Submission Date, Evaluation Date, Evaluation Status, Grade obtained, which lesson\n",
    "    "
   ]
  },
  {
   "cell_type": "markdown",
   "metadata": {},
   "source": [
    "## Enrollment Questions ##\n",
    "1. Month with Highest number of joinees and month with lowest number of joinees\n",
    "1. Days to Cancel - Frequency Distribution, Mean, Median, Mode, Distribution\n",
    "1. Joining Date - What day of Month, Week, Month there is highest joining\n",
    "1. Cancellation - What day of Month, Week, Month there is highest cancellation\n",
    "\n",
    "## Engagement Questions\n",
    "1. Monthly - Total Minutes Visited, Total Projects Completed, Total Lessons Completed\n",
    "1. \n",
    "\n",
    "## Project Submission Questions ##\n",
    "1. Time take for Project\n",
    "2. By Lesson - Processing State\n",
    "3. \n"
   ]
  },
  {
   "cell_type": "code",
   "execution_count": 151,
   "metadata": {
    "collapsed": false
   },
   "outputs": [],
   "source": [
    "import sys\n",
    "import csv\n",
    "import datetime as dt"
   ]
  },
  {
   "cell_type": "code",
   "execution_count": 152,
   "metadata": {
    "collapsed": false,
    "scrolled": true
   },
   "outputs": [
    {
     "name": "stdout",
     "output_type": "stream",
     "text": [
      "Enrollments:\n",
      "1640{'status': 'canceled', 'is_udacity': 'True', 'is_canceled': 'True', 'join_date': '2014-11-10', 'account_key': '448', 'cancel_date': '2015-01-14', 'days_to_cancel': '65'}\n",
      "Engagements:\n",
      "136240{'lessons_completed': '0.0', 'num_courses_visited': '1.0', 'total_minutes_visited': '11.6793745', 'projects_completed': '0.0', 'acct': '0', 'utc_date': '2015-01-09'}\n",
      "Submissions:\n",
      "3642{'lesson_key': '3176718735', 'processing_state': 'EVALUATED', 'account_key': '256', 'assigned_rating': 'UNGRADED', 'completion_date': '2015-01-16', 'creation_date': '2015-01-14'}\n"
     ]
    }
   ],
   "source": [
    "def parse_data(filename):\n",
    "    with open(filename) as f:\n",
    "        reader = csv.DictReader(f)\n",
    "        return list(reader)\n",
    "\n",
    "enrollments = parse_data('/Users/subramanyans/GitHub/courses/Udacity/DataAnalysis/enrollments.csv')\n",
    "engagements = parse_data('/Users/subramanyans/GitHub/courses/Udacity/DataAnalysis/daily_engagement.csv')\n",
    "submissions = parse_data('/Users/subramanyans/GitHub/courses/Udacity/DataAnalysis/project_submissions.csv')\n",
    "\n",
    "print (\"Enrollments:\\n{}{}\\nEngagements:\\n{}{}\\nSubmissions:\\n{}{}\".format(\\\n",
    "            len(enrollments), enrollments[0], len(engagements), engagements[0], len(submissions), submissions[0]))"
   ]
  },
  {
   "cell_type": "markdown",
   "metadata": {},
   "source": [
    "***************\n",
    "#### Cleaning Data ####\n",
    "Note that when we parse the data, all data is parsed as 'strings'. We see that many fields can be converted to Native Python data types like boolean, numbers, dates etc. instead of strings for easier handling\n",
    "\n",
    "Also, it is easier to create Dictionaries of Dictionaries instead of List of Dictionaries for easier search operations later"
   ]
  },
  {
   "cell_type": "code",
   "execution_count": 153,
   "metadata": {
    "collapsed": false
   },
   "outputs": [],
   "source": [
    "enrollment_dict = {}\n",
    "engagement_dict = {}\n",
    "submission_dict = {}\n",
    "\n",
    "def parse_date(date):\n",
    "    if not date:\n",
    "        return None\n",
    "    else:\n",
    "        return dt.datetime.strptime(date,'%Y-%m-%d')\n",
    "\n",
    "\n",
    "def parse_int(value):\n",
    "    if not value:\n",
    "        return None\n",
    "    else:\n",
    "        return int(value)\n",
    "\n",
    "# {'join_date': '2014-11-10', 'days_to_cancel': '65', 'status': 'canceled', 'is_canceled': 'True',\n",
    "# 'cancel_date': '2015-01-14', 'account_key': '448', 'is_udacity': 'True'}\n",
    "\n",
    "# Clean Enrollment Data\n",
    "def clean_enrollments():\n",
    "    for enrollment in enrollments:\n",
    "        enrollment['is_canceled'] = (enrollment['is_canceled'] == 'True')\n",
    "        enrollment['is_udacity'] = (enrollment['is_udacity'] == 'True')\n",
    "        enrollment['join_date'] = parse_date(enrollment['join_date'])\n",
    "        enrollment['cancel_date'] = parse_date(enrollment['cancel_date'])\n",
    "        enrollment['account_key'] = parse_int(enrollment['account_key'])\n",
    "        enrollment['days_to_cancel'] = parse_int(enrollment['days_to_cancel'])\n",
    "        enrollment['status'] = enrollment['status'].upper()\n",
    "        \n",
    "        if enrollment['account_key'] in enrollment_dict:\n",
    "            enrollment_dict[enrollment['account_key']].append(enrollment)\n",
    "        else:\n",
    "            enrollment_dict[enrollment['account_key']] = [enrollment]\n",
    "\n",
    "\n",
    "# Clean Engagement Data\n",
    "# {'acct': '0', 'total_minutes_visited': '11.6793745', 'num_courses_visited': '1.0', 'lessons_completed': '0.0', 'projects_completed': '0.0', 'utc_date': '2015-01-09'}\n",
    "def clean_engagements():\n",
    "    for engagement in engagements:\n",
    "        engagement['acct'] = parse_int(engagement['acct'])\n",
    "        engagement['total_minutes_visited'] = int(float(engagement['total_minutes_visited']))\n",
    "        engagement['num_courses_visited'] = int(float(engagement['num_courses_visited']))\n",
    "        engagement['lessons_completed'] = int(float(engagement['lessons_completed']))\n",
    "        engagement['projects_completed'] = int(float(engagement['projects_completed']))\n",
    "        engagement['utc_date'] = parse_date(engagement['utc_date'])\n",
    "\n",
    "        engagement['account_key'] = engagement['acct']\n",
    "        del engagement['acct']\n",
    "        \n",
    "        if engagement['account_key'] in engagement_dict:\n",
    "            engagement_dict[engagement['account_key']].append(engagement)\n",
    "        else:\n",
    "            engagement_dict[engagement['account_key']] = [engagement]\n",
    "\n",
    "\n",
    "# Clean Submissions Data\n",
    "#{'completion_date': '2015-01-16', 'lesson_key': '3176718735', 'processing_state': 'EVALUATED', 'assigned_rating': 'UNGRADED', 'creation_date': '2015-01-14', 'account_key': '256'}\n",
    "def clean_submissions():\n",
    "    for submission in submissions:\n",
    "        submission['completion_date'] = parse_date(submission['completion_date'])\n",
    "        submission['lesson_key'] = parse_int(submission['lesson_key'])\n",
    "        submission['account_key'] = parse_int(submission['account_key'])\n",
    "        submission['creation_date'] = parse_date(submission['creation_date'])\n",
    "        \n",
    "        if submission['account_key'] in submission_dict:\n",
    "            submission_dict[submission['account_key']].append(submission)\n",
    "        else:\n",
    "            submission_dict[submission['account_key']] = [submission]\n",
    "\n",
    "clean_enrollments()\n",
    "clean_engagements()\n",
    "clean_submissions()\n",
    "\n",
    "# print (\"Enrollments:\\n{}\\nEngagements:\\n{}\\nSubmissions:\\n{}\"\\\n",
    "#        .format(enrollment_dict[0], engagement_dict[0], submission_dict[0]))"
   ]
  },
  {
   "cell_type": "markdown",
   "metadata": {},
   "source": [
    "**********\n",
    "_Check if there is any deviation in number of accounts in each of the data sets\n",
    "**********"
   ]
  },
  {
   "cell_type": "code",
   "execution_count": 154,
   "metadata": {
    "collapsed": false
   },
   "outputs": [
    {
     "name": "stdout",
     "output_type": "stream",
     "text": [
      "(1640, 1302, {'status': 'CANCELED', 'is_udacity': True, 'is_canceled': True, 'join_date': datetime.datetime(2014, 11, 10, 0, 0), 'account_key': 448, 'cancel_date': datetime.datetime(2015, 1, 14, 0, 0), 'days_to_cancel': 65})\n",
      "(136240, 1237, {'lessons_completed': 0, 'num_courses_visited': 1, 'total_minutes_visited': 11, 'projects_completed': 0, 'account_key': 0, 'utc_date': datetime.datetime(2015, 1, 9, 0, 0)})\n",
      "(3642, 743, {'lesson_key': 3176718735, 'processing_state': 'EVALUATED', 'account_key': 256, 'assigned_rating': 'UNGRADED', 'completion_date': datetime.datetime(2015, 1, 16, 0, 0), 'creation_date': datetime.datetime(2015, 1, 14, 0, 0)})\n"
     ]
    }
   ],
   "source": [
    "def get_unique_accounts(input_list):\n",
    "    unique_accounts = set()\n",
    "    for element in input_list:\n",
    "        unique_accounts.add(element['account_key'])\n",
    "    return unique_accounts\n",
    "\n",
    "unique_enrollments = get_unique_accounts(enrollments)\n",
    "unique_engagements = get_unique_accounts(engagements)\n",
    "unique_submissions = get_unique_accounts(submissions)\n",
    "\n",
    "print(len(enrollments), len(unique_enrollments), enrollments[0])\n",
    "print(len(engagements), len(unique_engagements), engagements[0])\n",
    "print(len(submissions), len(unique_submissions), submissions[0])"
   ]
  },
  {
   "cell_type": "code",
   "execution_count": 156,
   "metadata": {
    "collapsed": false
   },
   "outputs": [
    {
     "name": "stdout",
     "output_type": "stream",
     "text": [
      "set([448, 1069, 1101, 312, 818, 1304])\n"
     ]
    }
   ],
   "source": [
    "# Find out set of Test accounts\n",
    "udacity_test_accounts = set()\n",
    "# Solution for Dictionary\n",
    "# for enrollments in enrollment_dict.values():\n",
    "#     if (len(enrollments)) > 1:\n",
    "#         for enrollment in enrollments:\n",
    "#             if enrollment['is_udacity']:\n",
    "#                 udacity_test_accounts.add(enrollment['account_key'])\n",
    "#     else:\n",
    "#         if enrollments[0]['is_udacity']:\n",
    "#             udacity_test_accounts.add(enrollments[0]['account_key'])\n",
    "\n",
    "udacity_test_accounts = set([enrollment['account_key'] for enrollment in enrollments if enrollment['is_udacity']])\n",
    "print (udacity_test_accounts)"
   ]
  },
  {
   "cell_type": "code",
   "execution_count": 157,
   "metadata": {
    "collapsed": false
   },
   "outputs": [],
   "source": [
    "# Remove Udacity Test Accounts\n",
    "# for ta in udacity_test_accounts:\n",
    "#     if ta in enrollment_dict:\n",
    "#         del enrollment_dict[ta]\n",
    "#     if ta in engagement_dict:\n",
    "#         del engagement_dict[ta]\n",
    "#     if ta in submission_dict:\n",
    "#         del submission_dict[ta]\n",
    "\n",
    "enrollments = [enrollment for enrollment in enrollments if not enrollment['is_udacity']]\n",
    "engagements = [engagement for engagement in engagements if engagement['account_key'] not in udacity_test_accounts]\n",
    "submissions = [submission for submission in submissions if submission['account_key'] not in udacity_test_accounts]"
   ]
  },
  {
   "cell_type": "markdown",
   "metadata": {},
   "source": [
    "### Question ###\n",
    "**How do numbers in Daily engagement table differ for people who pass the first project?**\n",
    "\n",
    "#### Approach ####\n",
    "* From Submissions, Get the first PASSED project, note its submission date\n",
    "* From Daily_Engagement, Get the total time spent until the submission\n",
    "    * _This step is problematic since students might have spent time on other lessons other than what is submitted_\n",
    "\n",
    "### Changed Question ###\n",
    "**Only look at engagement for 1st week and ignore the students who cancelled before the first week **\n",
    "\n",
    "#### Approach ####\n",
    "* Create a dictionary of \"paid_students\" who have not cancelled for > 1 week\n",
    "* Dictionary shall have account_key and joining date"
   ]
  },
  {
   "cell_type": "code",
   "execution_count": 158,
   "metadata": {
    "collapsed": false
   },
   "outputs": [
    {
     "name": "stdout",
     "output_type": "stream",
     "text": [
      "995\n"
     ]
    }
   ],
   "source": [
    "paid_students = {enrollment['account_key']: enrollment['join_date'] \\\n",
    "                 for enrollment in enrollments if enrollment['days_to_cancel'] > 7 or not enrollment['is_canceled']}\n",
    "\n",
    "print(len(paid_students))    \n",
    "#print(paid_students)\n",
    "\n",
    "\n",
    "# paid_students = {}\n",
    "# for enrollments in enrollment_dict.values():\n",
    "#     if (len(enrollments)) > 1:\n",
    "#         for enrollment in enrollments:\n",
    "#             if if enrollment['days_to_cancel'] > 7 or not enrollment['is_canceled']:\n",
    "#                 paid_students[enrollment['account_key'] = enrollment['join_date']\n",
    "#     else:\n",
    "#         if enrollments[0]['is_udacity']:\n",
    "#             paid_students.add(enrollments[0]['account_key'])\n",
    "# print (paid_students)"
   ]
  },
  {
   "cell_type": "code",
   "execution_count": null,
   "metadata": {
    "collapsed": false
   },
   "outputs": [],
   "source": [
    "first_week_engagements = {}\n",
    "# tmp_engagement_list = []\n",
    "# for key in paid_students:\n",
    "#     tmp_engagement_list = []\n",
    "#     for e in engagements:\n",
    "#         if e['account_key'] == key and (e['utc_date'] - paid_students[key]).days <  7:\n",
    "#             tmp_engagement_list.append(e)\n",
    "#     first_week_engagements[key] = tmp_engagement_list\n",
    "\n",
    "print (first_week_engagements[0])\n",
    "        "
   ]
  },
  {
   "cell_type": "code",
   "execution_count": null,
   "metadata": {
    "collapsed": true
   },
   "outputs": [],
   "source": []
  }
 ],
 "metadata": {
  "anaconda-cloud": {},
  "kernelspec": {
   "display_name": "Python [conda env:DAND]",
   "language": "python",
   "name": "conda-env-DAND-py"
  },
  "language_info": {
   "codemirror_mode": {
    "name": "ipython",
    "version": 2
   },
   "file_extension": ".py",
   "mimetype": "text/x-python",
   "name": "python",
   "nbconvert_exporter": "python",
   "pygments_lexer": "ipython2",
   "version": "2.7.12"
  }
 },
 "nbformat": 4,
 "nbformat_minor": 2
}
